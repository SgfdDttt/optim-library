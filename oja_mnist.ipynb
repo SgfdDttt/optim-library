{
 "cells": [
  {
   "cell_type": "code",
   "execution_count": 1,
   "metadata": {},
   "outputs": [],
   "source": [
    "# imports\n",
    "import sys, os\n",
    "sys.path.append(os.getcwd()+'/code')\n",
    "import matplotlib\n",
    "import matplotlib.pyplot as plt\n",
    "import numpy as np\n",
    "import pickle as pkl\n",
    "import Algorithms\n",
    "from data_streamer import Streamer, MultiStreamer"
   ]
  },
  {
   "cell_type": "code",
   "execution_count": 2,
   "metadata": {},
   "outputs": [],
   "source": [
    "# constants\n",
    "train_data_file=os.getcwd() + '/data/train_mnist.csv'\n",
    "validation_data_file=os.getcwd() + '/data/test_mnist.csv'\n",
    "assert os.path.isfile(train_data_file)\n",
    "k = 100 # dimensionality of representations\n",
    "d = 784 # dimensionality of input\n",
    "learning_rate = 100 # initial learning rate\n",
    "validation_freq = 1000 # how many training steps in between validations"
   ]
  },
  {
   "cell_type": "code",
   "execution_count": 5,
   "metadata": {},
   "outputs": [],
   "source": [
    "# data streamer and algorithm\n",
    "train_stream = Streamer(train_data_file).get_stream()\n",
    "algorithm=Algorithms.oja({'d': d, 'k': k, 'learning_rate': learning_rate})\n",
    "# load validation data at once to make validation faster\n",
    "validation_data=[]\n",
    "for point in Streamer(validation_data_file).get_stream():\n",
    "    validation_data.append(point)\n",
    "validation_data=np.stack(validation_data,axis=0)"
   ]
  },
  {
   "cell_type": "code",
   "execution_count": 6,
   "metadata": {},
   "outputs": [
    {
     "name": "stdout",
     "output_type": "stream",
     "text": [
      "(1, 784)\n",
      "(1000, 784)\n",
      "(1, 784)\n",
      "(1000, 784)\n"
     ]
    },
    {
     "ename": "KeyboardInterrupt",
     "evalue": "",
     "output_type": "error",
     "traceback": [
      "\u001b[0;31m---------------------------------------------------------------------------\u001b[0m",
      "\u001b[0;31mKeyboardInterrupt\u001b[0m                         Traceback (most recent call last)",
      "\u001b[0;32m<ipython-input-6-581fad0b8077>\u001b[0m in \u001b[0;36m<module>\u001b[0;34m()\u001b[0m\n\u001b[1;32m      9\u001b[0m     \u001b[0mtraining_batch\u001b[0m\u001b[0;34m.\u001b[0m\u001b[0mappend\u001b[0m\u001b[0;34m(\u001b[0m\u001b[0mpoint\u001b[0m\u001b[0;34m)\u001b[0m\u001b[0;34m\u001b[0m\u001b[0m\n\u001b[1;32m     10\u001b[0m     \u001b[0;32mif\u001b[0m \u001b[0mcounter\u001b[0m\u001b[0;34m%\u001b[0m\u001b[0mvalidation_freq\u001b[0m\u001b[0;34m==\u001b[0m\u001b[0;36m0\u001b[0m\u001b[0;34m:\u001b[0m\u001b[0;34m\u001b[0m\u001b[0m\n\u001b[0;32m---> 11\u001b[0;31m         \u001b[0mloss\u001b[0m\u001b[0;34m=\u001b[0m\u001b[0malgorithm\u001b[0m\u001b[0;34m.\u001b[0m\u001b[0mloss\u001b[0m\u001b[0;34m(\u001b[0m\u001b[0mvalidation_data\u001b[0m\u001b[0;34m)\u001b[0m\u001b[0;34m\u001b[0m\u001b[0m\n\u001b[0m\u001b[1;32m     12\u001b[0m         \u001b[0mloss\u001b[0m\u001b[0;34m/=\u001b[0m\u001b[0;34m(\u001b[0m\u001b[0mvalidation_data\u001b[0m\u001b[0;34m.\u001b[0m\u001b[0mshape\u001b[0m\u001b[0;34m[\u001b[0m\u001b[0;36m0\u001b[0m\u001b[0;34m]\u001b[0m\u001b[0;34m*\u001b[0m\u001b[0mvalidation_data\u001b[0m\u001b[0;34m.\u001b[0m\u001b[0mshape\u001b[0m\u001b[0;34m[\u001b[0m\u001b[0;36m1\u001b[0m\u001b[0;34m]\u001b[0m\u001b[0;34m)\u001b[0m\u001b[0;34m\u001b[0m\u001b[0m\n\u001b[1;32m     13\u001b[0m         \u001b[0mvalidation_loss\u001b[0m\u001b[0;34m.\u001b[0m\u001b[0mappend\u001b[0m\u001b[0;34m(\u001b[0m\u001b[0mloss\u001b[0m\u001b[0;34m)\u001b[0m\u001b[0;34m\u001b[0m\u001b[0m\n",
      "\u001b[0;32m~/Documents/workspace/optimization-library/code/Algorithms/oja.py\u001b[0m in \u001b[0;36mloss\u001b[0;34m(self, points)\u001b[0m\n\u001b[1;32m     38\u001b[0m         \u001b[0mutx\u001b[0m \u001b[0;34m=\u001b[0m \u001b[0mnp\u001b[0m\u001b[0;34m.\u001b[0m\u001b[0mmatmul\u001b[0m\u001b[0;34m(\u001b[0m\u001b[0mpoints\u001b[0m\u001b[0;34m,\u001b[0m\u001b[0mself\u001b[0m\u001b[0;34m.\u001b[0m\u001b[0mparameters\u001b[0m\u001b[0;34m[\u001b[0m\u001b[0;34m'U'\u001b[0m\u001b[0;34m]\u001b[0m\u001b[0;34m)\u001b[0m\u001b[0;34m\u001b[0m\u001b[0m\n\u001b[1;32m     39\u001b[0m         \u001b[0mresiduals\u001b[0m \u001b[0;34m=\u001b[0m \u001b[0mpoints\u001b[0m \u001b[0;34m-\u001b[0m \u001b[0mnp\u001b[0m\u001b[0;34m.\u001b[0m\u001b[0mmatmul\u001b[0m\u001b[0;34m(\u001b[0m\u001b[0mself\u001b[0m\u001b[0;34m.\u001b[0m\u001b[0mparameters\u001b[0m\u001b[0;34m[\u001b[0m\u001b[0;34m'U'\u001b[0m\u001b[0;34m]\u001b[0m\u001b[0;34m,\u001b[0m\u001b[0mutx\u001b[0m\u001b[0;34m.\u001b[0m\u001b[0mT\u001b[0m\u001b[0;34m)\u001b[0m\u001b[0;34m.\u001b[0m\u001b[0mT\u001b[0m\u001b[0;34m\u001b[0m\u001b[0m\n\u001b[0;32m---> 40\u001b[0;31m         \u001b[0mloss\u001b[0m \u001b[0;34m=\u001b[0m \u001b[0mnp\u001b[0m\u001b[0;34m.\u001b[0m\u001b[0msum\u001b[0m\u001b[0;34m(\u001b[0m\u001b[0mnp\u001b[0m\u001b[0;34m.\u001b[0m\u001b[0mpower\u001b[0m\u001b[0;34m(\u001b[0m\u001b[0mresiduals\u001b[0m\u001b[0;34m,\u001b[0m\u001b[0;36m2\u001b[0m\u001b[0;34m)\u001b[0m\u001b[0;34m)\u001b[0m\u001b[0;34m\u001b[0m\u001b[0m\n\u001b[0m\u001b[1;32m     41\u001b[0m         \u001b[0;32mreturn\u001b[0m \u001b[0mloss\u001b[0m\u001b[0;34m\u001b[0m\u001b[0m\n",
      "\u001b[0;31mKeyboardInterrupt\u001b[0m: "
     ]
    }
   ],
   "source": [
    "# placeholders for loss\n",
    "validation_loss, training_loss, min_training_loss = [], [], []\n",
    "training_batch = []\n",
    "# main loop\n",
    "counter=0\n",
    "for point in train_stream:\n",
    "    counter+=1\n",
    "    algorithm.step(point)\n",
    "    training_batch.append(point)\n",
    "    if counter%validation_freq==0:\n",
    "        loss=algorithm.loss(validation_data)\n",
    "        loss/=(validation_data.shape[0]*validation_data.shape[1])\n",
    "        validation_loss.append(loss)\n",
    "        training_batch=np.stack(training_batch,axis=0)\n",
    "        loss=algorithm.loss(training_batch)\n",
    "        loss/=(training_batch.shape[0]*training_batch.shape[1])\n",
    "        training_loss.append(loss)\n",
    "        # for information, compute the los for the non-stochastic, closed form solution\n",
    "        # our training loss couldn't be lower than that\n",
    "        mean=np.mean(training_batch,axis=0,keepdims=True)\n",
    "        centered_data=training_batch - np.mean(training_batch,axis=0,keepdims=True)\n",
    "        print(centered_data.shape)\n",
    "        lambdas,_=np.linalg.eigh(np.matmul(training_batch.T,training_batch))\n",
    "        loss=sum(lambdas[:-k])/(training_batch.shape[0]*training_batch.shape[1])\n",
    "        min_training_loss.append(loss) \n",
    "        training_batch=[]"
   ]
  },
  {
   "cell_type": "code",
   "execution_count": null,
   "metadata": {},
   "outputs": [],
   "source": [
    "# plot the train and test loss\n",
    "plt.figure(figsize=(8, 8))\n",
    "plt.xlabel('Step')\n",
    "plt.ylabel('Loss')\n",
    "#plt.yscale('log')\n",
    "x_scale=[x*validation_freq for x in range(1,len(training_loss)+1)]\n",
    "plt.plot(x_scale, training_loss, '--b', label='train loss')\n",
    "plt.plot(x_scale, validation_loss, '--r', label='test loss')\n",
    "plt.plot(x_scale, min_training_loss, '--k', label='train loss lower bound')\n",
    "_ = plt.legend()"
   ]
  }
 ],
 "metadata": {
  "kernelspec": {
   "display_name": "Python 3",
   "language": "python",
   "name": "python3"
  },
  "language_info": {
   "codemirror_mode": {
    "name": "ipython",
    "version": 3
   },
   "file_extension": ".py",
   "mimetype": "text/x-python",
   "name": "python",
   "nbconvert_exporter": "python",
   "pygments_lexer": "ipython3",
   "version": "3.6.5"
  }
 },
 "nbformat": 4,
 "nbformat_minor": 2
}
