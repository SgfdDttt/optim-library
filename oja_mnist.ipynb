{
 "cells": [
  {
   "cell_type": "code",
   "execution_count": 1,
   "metadata": {},
   "outputs": [],
   "source": [
    "# imports\n",
    "import sys, os\n",
    "sys.path.append(os.getcwd()+'/code')\n",
    "import matplotlib\n",
    "import matplotlib.pyplot as plt\n",
    "import numpy as np\n",
    "import pickle as pkl\n",
    "import Algorithms\n",
    "from data_streamer import Streamer, MultiStreamer"
   ]
  },
  {
   "cell_type": "code",
   "execution_count": 2,
   "metadata": {},
   "outputs": [],
   "source": [
    "# constants\n",
    "train_data_file=os.getcwd() + '/data/train_mnist_normalized.csv'\n",
    "validation_data_file=os.getcwd() + '/data/test_mnist_normalized.csv'\n",
    "assert os.path.isfile(train_data_file)\n",
    "k = 10 # dimensionality of representations\n",
    "d=784\n",
    "learning_rate = 1e-3 # initial learning rate\n",
    "validation_freq = 1000 # how many training steps in between validations"
   ]
  },
  {
   "cell_type": "code",
   "execution_count": 3,
   "metadata": {},
   "outputs": [],
   "source": [
    "# data streamer and algorithm\n",
    "train_stream = Streamer(train_data_file).get_stream()\n",
    "algorithm=Algorithms.oja({'d': d, 'k': k, 'learning_rate': learning_rate, 'mean_center': 0.0})\n",
    "# load validation data at once to make validation faster\n",
    "validation_data, training_data=[],[]\n",
    "for point in Streamer(validation_data_file).get_stream():\n",
    "    validation_data.append(point)\n",
    "for point in Streamer(train_data_file).get_stream():\n",
    "    training_data.append(point)\n",
    "validation_data=np.stack(validation_data,axis=0)\n",
    "training_data=np.stack(training_data,axis=0)\n",
    "# do PCA on the validation as a lower bound\n",
    "centered_data=validation_data #- np.mean(validation_data,axis=0,keepdims=True)\n",
    "lambdas,_=np.linalg.eigh(np.matmul(centered_data.T,centered_data))\n",
    "lambdas=sorted(lambdas)\n",
    "best_validation_loss=sum(lambdas[:-k])/(centered_data.shape[0]*centered_data.shape[1])"
   ]
  },
  {
   "cell_type": "code",
   "execution_count": 4,
   "metadata": {},
   "outputs": [
    {
     "name": "stdout",
     "output_type": "stream",
     "text": [
      "1000\n",
      "2000\n",
      "3000\n",
      "4000\n",
      "5000\n",
      "6000\n",
      "7000\n",
      "8000\n",
      "9000\n",
      "10000\n",
      "11000\n",
      "12000\n",
      "13000\n",
      "14000\n",
      "15000\n",
      "16000\n",
      "17000\n",
      "18000\n",
      "19000\n",
      "20000\n",
      "21000\n",
      "22000\n",
      "23000\n",
      "24000\n",
      "25000\n",
      "26000\n",
      "27000\n",
      "28000\n",
      "29000\n",
      "30000\n",
      "31000\n",
      "32000\n",
      "33000\n",
      "34000\n",
      "35000\n",
      "36000\n",
      "37000\n",
      "38000\n",
      "39000\n",
      "40000\n",
      "41000\n",
      "42000\n",
      "43000\n",
      "44000\n",
      "45000\n",
      "46000\n",
      "47000\n",
      "48000\n",
      "49000\n",
      "50000\n",
      "51000\n",
      "52000\n",
      "53000\n",
      "54000\n",
      "55000\n",
      "56000\n",
      "57000\n",
      "58000\n",
      "59000\n",
      "60000\n"
     ]
    }
   ],
   "source": [
    "# placeholders for loss\n",
    "validation_loss, training_loss, min_training_loss = [], [], []\n",
    "training_batch = []\n",
    "# main loop\n",
    "counter=0\n",
    "train_stream = Streamer(train_data_file).get_stream()\n",
    "for point in train_stream:\n",
    "    counter+=1\n",
    "    algorithm.step(point)\n",
    "    if counter%validation_freq==0:\n",
    "        print(counter)\n",
    "        loss=algorithm.loss(validation_data)\n",
    "        loss/=(validation_data.shape[0]*validation_data.shape[1])\n",
    "        validation_loss.append(loss)\n",
    "        loss=algorithm.loss(training_data)\n",
    "        loss/=(training_data.shape[0]*training_data.shape[1])\n",
    "        training_loss.append(loss)"
   ]
  },
  {
   "cell_type": "code",
   "execution_count": 5,
   "metadata": {},
   "outputs": [
    {
     "data": {
      "image/png": "[encoded data removed]",
      "text/plain": [
       "<Figure size 576x576 with 1 Axes>"
      ]
     },
     "metadata": {},
     "output_type": "display_data"
    }
   ],
   "source": [
    "# plot the train and test loss\n",
    "plt.figure(figsize=(8, 8))\n",
    "plt.xlabel('Step')\n",
    "plt.ylabel('Loss')\n",
    "x_scale=[x*validation_freq for x in range(1,len(training_loss)+1)]\n",
    "plt.plot(x_scale, training_loss, '--b', label='train loss')\n",
    "plt.plot(x_scale, validation_loss, '--r', label='test loss')\n",
    "plt.plot(x_scale, [best_validation_loss]*len(training_loss), '--k', label='train loss lower bound')\n",
    "_ = plt.legend()"
   ]
  },
  {
   "cell_type": "code",
   "execution_count": null,
   "metadata": {},
   "outputs": [],
   "source": []
  }
 ],
 "metadata": {
  "kernelspec": {
   "display_name": "Python 3",
   "language": "python",
   "name": "python3"
  },
  "language_info": {
   "codemirror_mode": {
    "name": "ipython",
    "version": 3
   },
   "file_extension": ".py",
   "mimetype": "text/x-python",
   "name": "python",
   "nbconvert_exporter": "python",
   "pygments_lexer": "ipython3",
   "version": "3.6.5"
  }
 },
 "nbformat": 4,
 "nbformat_minor": 2
}
