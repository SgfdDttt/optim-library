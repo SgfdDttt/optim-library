{
 "cells": [
  {
   "cell_type": "code",
   "execution_count": 1,
   "metadata": {},
   "outputs": [],
   "source": [
    "# imports\n",
    "import sys, os\n",
    "sys.path.append(os.getcwd()+'/code')\n",
    "import matplotlib\n",
    "import matplotlib.pyplot as plt\n",
    "import numpy as np\n",
    "import pickle as pkl\n",
    "import Algorithms\n",
    "from data_streamer import Streamer, MultiStreamer"
   ]
  },
  {
   "cell_type": "code",
   "execution_count": 2,
   "metadata": {},
   "outputs": [],
   "source": [
    "# constants\n",
    "train_data_file=os.getcwd() + '/data/train_mnist_normalized.csv'\n",
    "validation_data_file=os.getcwd() + '/data/test_mnist_normalized.csv'\n",
    "assert os.path.isfile(train_data_file)\n",
    "k = 10 # dimensionality of representations\n",
    "d=784\n",
    "learning_rate = 1e-3 # initial learning rate\n",
    "validation_freq = 1000 # how many training steps in between validations"
   ]
  },
  {
   "cell_type": "code",
   "execution_count": 3,
   "metadata": {},
   "outputs": [],
   "source": [
    "# data streamer and algorithm\n",
    "train_stream = Streamer(train_data_file).get_stream()\n",
    "algorithm=Algorithms.rfoja({'d': d, 'k': k, 'learning_rate': learning_rate, 'mean_center': 0.0,'kernel':'rbf','kernel_hyperparameter':0.1,'m':50})\n",
    "# load validation data at once to make validation faster\n",
    "validation_data, training_data=[],[]\n",
    "for point in Streamer(validation_data_file).get_stream():\n",
    "    validation_data.append(point)\n",
    "for point in Streamer(train_data_file).get_stream():\n",
    "    training_data.append(point)\n",
    "validation_data=np.stack(validation_data,axis=0)\n",
    "training_data=np.stack(training_data,axis=0)\n",
    "# do PCA on the validation as a lower bound\n",
    "centered_data=validation_data #- np.mean(validation_data,axis=0,keepdims=True)\n",
    "lambdas,_=np.linalg.eigh(np.matmul(centered_data.T,centered_data))\n",
    "lambdas=sorted(lambdas)\n",
    "best_validation_loss=sum(lambdas[:-k])/(centered_data.shape[0]*centered_data.shape[1])"
   ]
  },
  {
   "cell_type": "code",
   "execution_count": null,
   "metadata": {},
   "outputs": [
    {
     "name": "stdout",
     "output_type": "stream",
     "text": [
      "1000\n"
     ]
    }
   ],
   "source": [
    "# placeholders for loss\n",
    "validation_loss, training_loss, min_training_loss = [], [], []\n",
    "training_batch = []\n",
    "# main loop\n",
    "counter=0\n",
    "train_stream = Streamer(train_data_file).get_stream()\n",
    "for point in train_stream:\n",
    "    counter+=1\n",
    "    algorithm.step(point)\n",
    "    if counter%validation_freq==0:\n",
    "        print(counter)\n",
    "        loss=algorithm.loss(validation_data)\n",
    "#         loss/=(validation_data.shape[0]*validation_data.shape[1])\n",
    "        validation_loss.append(loss)\n",
    "        loss=algorithm.loss(training_data)\n",
    "#         loss/=(training_data.shape[0]*training_data.shape[1])\n",
    "        training_loss.append(loss)"
   ]
  },
  {
   "cell_type": "code",
   "execution_count": null,
   "metadata": {},
   "outputs": [],
   "source": [
    "print training_loss"
   ]
  },
  {
   "cell_type": "code",
   "execution_count": null,
   "metadata": {},
   "outputs": [],
   "source": [
    "# plot the train and test loss\n",
    "plt.figure(figsize=(8, 8))\n",
    "plt.xlabel('Step')\n",
    "plt.ylabel('Loss')\n",
    "x_scale=[x*validation_freq for x in range(1,len(training_loss)+1)]\n",
    "plt.plot(x_scale, training_loss, '--b', label='train loss')\n",
    "plt.plot(x_scale, validation_loss, '--r', label='test loss')\n",
    "plt.plot(x_scale, [best_validation_loss]*len(training_loss), '--k', label='train loss lower bound')\n",
    "_ = plt.legend()"
   ]
  },
  {
   "cell_type": "code",
   "execution_count": null,
   "metadata": {},
   "outputs": [],
   "source": []
  },
  {
   "cell_type": "code",
   "execution_count": null,
   "metadata": {},
   "outputs": [],
   "source": []
  }
 ],
 "metadata": {
  "kernelspec": {
   "display_name": "Python 2",
   "language": "python",
   "name": "python2"
  },
  "language_info": {
   "codemirror_mode": {
    "name": "ipython",
    "version": 2
   },
   "file_extension": ".py",
   "mimetype": "text/x-python",
   "name": "python",
   "nbconvert_exporter": "python",
   "pygments_lexer": "ipython2",
   "version": "2.7.12"
  }
 },
 "nbformat": 4,
 "nbformat_minor": 2
}
