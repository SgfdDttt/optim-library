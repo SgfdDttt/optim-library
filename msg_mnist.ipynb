{
 "cells": [
  {
   "cell_type": "code",
   "execution_count": 8,
   "metadata": {},
   "outputs": [],
   "source": [
    "# imports\n",
    "import sys, os\n",
    "sys.path.append(os.getcwd()+'/code')\n",
    "import matplotlib\n",
    "import matplotlib.pyplot as plt\n",
    "import numpy as np\n",
    "import pickle as pkl\n",
    "import Algorithms\n",
    "from data_streamer import Streamer, MultiStreamer"
   ]
  },
  {
   "cell_type": "code",
   "execution_count": 9,
   "metadata": {},
   "outputs": [],
   "source": [
    "# constants\n",
    "train_data_file=os.getcwd() + '/data/train_mnist_normalized.csv'\n",
    "validation_data_file=os.getcwd() + '/data/test_mnist_normalized.csv'\n",
    "assert os.path.isfile(train_data_file)\n",
    "k = 10 # dimensionality of representations\n",
    "d=784\n",
    "learning_rate = 1e-3 # initial learning rate\n",
    "validation_freq = 100 # how many training steps in between validations"
   ]
  },
  {
   "cell_type": "code",
   "execution_count": 10,
   "metadata": {},
   "outputs": [],
   "source": [
    "# data streamer and algorithm\n",
    "train_stream = Streamer(train_data_file).get_stream()\n",
    "algorithm=Algorithms.msg({'d': d, 'k': k, 'learning_rate': learning_rate, 'mean_center': 0.0})\n",
    "# load validation data at once to make validation faster\n",
    "validation_data, training_data=[],[]\n",
    "for point in Streamer(validation_data_file).get_stream():\n",
    "    validation_data.append(point)\n",
    "for point in Streamer(train_data_file).get_stream():\n",
    "    training_data.append(point)\n",
    "validation_data=np.stack(validation_data,axis=0)\n",
    "training_data=np.stack(training_data,axis=0)\n",
    "# do PCA on the validation as a lower bound\n",
    "centered_data=validation_data #- np.mean(validation_data,axis=0,keepdims=True)\n",
    "lambdas,_=np.linalg.eigh(np.matmul(centered_data.T,centered_data))\n",
    "lambdas=sorted(lambdas)\n",
    "best_validation_loss=sum(lambdas[:-k])/(centered_data.shape[0]*centered_data.shape[1])"
   ]
  },
  {
   "cell_type": "code",
   "execution_count": 11,
   "metadata": {
    "scrolled": false
   },
   "outputs": [
    {
     "name": "stdout",
     "output_type": "stream",
     "text": [
      "100\n",
      "200\n",
      "300\n",
      "400\n",
      "500\n",
      "600\n",
      "700\n",
      "800\n",
      "900\n",
      "1000\n",
      "1100\n",
      "1200\n",
      "1300\n",
      "1400\n",
      "1500\n",
      "1600\n",
      "1700\n",
      "1800\n",
      "1900\n",
      "2000\n",
      "2100\n",
      "2200\n",
      "2300\n",
      "2400\n",
      "2500\n",
      "2600\n",
      "2700\n",
      "2800\n",
      "2900\n",
      "3000\n",
      "3100\n",
      "3200\n",
      "3300\n",
      "3400\n",
      "3500\n",
      "3600\n",
      "3700\n",
      "3800\n",
      "3900\n",
      "4000\n",
      "4100\n",
      "4200\n",
      "4300\n",
      "4400\n",
      "4500\n",
      "4600\n",
      "4700\n",
      "4800\n",
      "4900\n",
      "5000\n",
      "5100\n",
      "5200\n",
      "5300\n",
      "5400\n",
      "5500\n",
      "5600\n",
      "5700\n",
      "5800\n",
      "5900\n",
      "6000\n",
      "6100\n",
      "6200\n",
      "6300\n",
      "6400\n",
      "6500\n",
      "6600\n",
      "6700\n",
      "6800\n",
      "6900\n",
      "7000\n",
      "7100\n",
      "7200\n",
      "7300\n",
      "7400\n",
      "7500\n",
      "7600\n",
      "7700\n",
      "7800\n",
      "7900\n",
      "8000\n",
      "8100\n",
      "8200\n",
      "8300\n",
      "8400\n",
      "8500\n",
      "8600\n",
      "8700\n",
      "8800\n",
      "8900\n",
      "9000\n",
      "9100\n",
      "9200\n",
      "9300\n",
      "9400\n",
      "9500\n",
      "9600\n",
      "9700\n",
      "9800\n",
      "9900\n"
     ]
    }
   ],
   "source": [
    "# placeholders for loss\n",
    "validation_loss, training_loss, min_training_loss = [], [], []\n",
    "training_batch = []\n",
    "# main loop\n",
    "counter=0\n",
    "train_stream = Streamer(train_data_file).get_stream()\n",
    "for point in train_stream:\n",
    "    counter+=1\n",
    "#     print(counter)\n",
    "#     if counter == 10000:\n",
    "#         break\n",
    "    algorithm.step(point)\n",
    "    if counter%validation_freq==0:\n",
    "        print(counter)\n",
    "        loss=algorithm.loss(validation_data)\n",
    "        loss/=(validation_data.shape[0]*validation_data.shape[1])\n",
    "        validation_loss.append(loss)\n",
    "        loss=algorithm.loss(training_data)\n",
    "        loss/=(training_data.shape[0]*training_data.shape[1])\n",
    "        training_loss.append(loss)"
   ]
  },
  {
   "cell_type": "code",
   "execution_count": 6,
   "metadata": {},
   "outputs": [],
   "source": [
    "\n"
   ]
  },
  {
   "cell_type": "code",
   "execution_count": 12,
   "metadata": {},
   "outputs": [
    {
     "data": {
      "image/png": "[encoded data removed]",
      "text/plain": [
       "<matplotlib.figure.Figure at 0x10786df10>"
      ]
     },
     "metadata": {},
     "output_type": "display_data"
    }
   ],
   "source": [
    "# plot the train and test loss\n",
    "plt.figure(figsize=(8, 8))\n",
    "plt.xlabel('Step')\n",
    "plt.ylabel('Loss')\n",
    "x_scale=[x*validation_freq for x in range(1,len(training_loss)+1)]\n",
    "plt.plot(x_scale, training_loss, '--b', label='train loss')\n",
    "plt.plot(x_scale, validation_loss, '--r', label='test loss')\n",
    "plt.plot(x_scale, [best_validation_loss]*len(training_loss), '--k', label='train loss lower bound')\n",
    "_ = plt.legend()"
   ]
  },
  {
   "cell_type": "code",
   "execution_count": null,
   "metadata": {},
   "outputs": [],
   "source": []
  }
 ],
 "metadata": {
  "kernelspec": {
   "display_name": "Python 2",
   "language": "python",
   "name": "python2"
  },
  "language_info": {
   "codemirror_mode": {
    "name": "ipython",
    "version": 2
   },
   "file_extension": ".py",
   "mimetype": "text/x-python",
   "name": "python",
   "nbconvert_exporter": "python",
   "pygments_lexer": "ipython2",
   "version": "2.7.12"
  }
 },
 "nbformat": 4,
 "nbformat_minor": 2
}
