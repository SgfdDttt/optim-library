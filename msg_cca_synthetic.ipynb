{
 "cells": [
  {
   "cell_type": "code",
   "execution_count": 1,
   "metadata": {},
   "outputs": [],
   "source": [
    "# imports\n",
    "import sys, os\n",
    "sys.path.append(os.getcwd()+'/code')\n",
    "import matplotlib\n",
    "import matplotlib.pyplot as plt\n",
    "import numpy as np\n",
    "import pickle as pkl\n",
    "import Algorithms\n",
    "from data_streamer import Streamer, MultiStreamer"
   ]
  },
  {
   "cell_type": "code",
   "execution_count": 2,
   "metadata": {},
   "outputs": [],
   "source": [
    "# constants\n",
    "train_data_file=[os.getcwd() + '/synth_data_bach_jordan_view1.csv', os.getcwd() + '/synth_data_bach_jordan_view2.csv']\n",
    "validation_data_file=[os.getcwd() + '/synth_data_bach_jordan_view1.csv', os.getcwd() + '/synth_data_bach_jordan_view2.csv']\n",
    "assert os.path.isfile(train_data_file[0])\n",
    "assert os.path.isfile(train_data_file[1])\n",
    "assert os.path.isfile(validation_data_file[0])\n",
    "assert os.path.isfile(validation_data_file[1])\n",
    "k = 5 # dimensionality of representations\n",
    "dx, dy = 11, 21 # dimensionality of input\n",
    "learning_rate = 1e-3 # initial learning rate\n",
    "validation_freq = 1000 # how many training steps in between validations"
   ]
  },
  {
   "cell_type": "code",
   "execution_count": 3,
   "metadata": {},
   "outputs": [],
   "source": [
    "# util functions to compute best CCA loss\n",
    "def inv_sqrt(x):\n",
    "    # inverse squareroot of symmetric matrix\n",
    "    values,vectors=np.linalg.eigh(x)\n",
    "    out=np.dot(vectors,np.diag(np.reciprocal(np.sqrt(values))))\n",
    "    out=np.dot(out,vectors.T)\n",
    "    return out\n",
    "\n",
    "def matrix_product(array):\n",
    "    # return the product of the matrices in the array\n",
    "    assert len(array)>1\n",
    "    out=np.dot(array[0],array[1])\n",
    "    for x in array[2:]:\n",
    "        out=np.dot(out,x)\n",
    "    return out\n",
    "\n",
    "def max_loss(training_batch):\n",
    "    H=np.concatenate(training_batch,axis=1)\n",
    "    # covariance matrices\n",
    "    mu=np.mean(H,axis=0,keepdims=True)\n",
    "    centered_h=H-mu\n",
    "    # covariance matrix\n",
    "    X,Y=training_batch\n",
    "    centered_x=X-np.mean(X,axis=0,keepdims=True)\n",
    "    centered_y=Y-np.mean(Y,axis=0,keepdims=True)\n",
    "    C=np.dot(centered_x.T,centered_y)\n",
    "    _,D,_=np.linalg.svd(C)\n",
    "    loss=sum(D[:k])\n",
    "    return loss"
   ]
  },
  {
   "cell_type": "code",
   "execution_count": 4,
   "metadata": {},
   "outputs": [],
   "source": [
    "# data streamer and algorithm\n",
    "train_stream = MultiStreamer(train_data_file).get_stream()\n",
    "algorithm=Algorithms.msg_cca({'dx': dx, 'dy': dy, 'k': k, 'learning_rate': learning_rate})\n",
    "# load validation data at once to make validation faster\n",
    "validation_data=[[],[]]\n",
    "for point in MultiStreamer(validation_data_file).get_stream():\n",
    "    x,y=point\n",
    "    validation_data[0].append(x)\n",
    "    validation_data[1].append(y)\n",
    "validation_data[0]=np.stack(validation_data[0],axis=0)\n",
    "validation_data[1]=np.stack(validation_data[1],axis=0)\n",
    "max_loss_validation=max_loss(validation_data)/(validation_data[0].shape[0]*k)\n",
    "# load training data\n",
    "training_data=[[],[]]\n",
    "for point in MultiStreamer(train_data_file).get_stream():\n",
    "    x,y=point\n",
    "    training_data[0].append(x)\n",
    "    training_data[1].append(y)\n",
    "training_data[0]=np.stack(training_data[0],axis=0)\n",
    "training_data[1]=np.stack(training_data[1],axis=0)"
   ]
  },
  {
   "cell_type": "code",
   "execution_count": 5,
   "metadata": {},
   "outputs": [],
   "source": [
    "# placeholders for loss\n",
    "validation_loss, training_loss, max_training_loss = [], [], []\n",
    "# main loop\n",
    "counter=0\n",
    "for point in train_stream:\n",
    "    counter+=1\n",
    "    algorithm.step(point)\n",
    "    if counter%validation_freq==0:\n",
    "        loss=algorithm.loss(validation_data)\n",
    "        loss/=(validation_data[0].shape[0]*k)\n",
    "        validation_loss.append(loss)\n",
    "        loss=algorithm.loss(training_data)\n",
    "        loss/=(training_data[0].shape[0]*k)\n",
    "        training_loss.append(loss)"
   ]
  },
  {
   "cell_type": "code",
   "execution_count": 6,
   "metadata": {},
   "outputs": [
    {
     "data": {
      "image/png": "[encoded data removed]",
      "text/plain": [
       "<Figure size 576x576 with 1 Axes>"
      ]
     },
     "metadata": {},
     "output_type": "display_data"
    }
   ],
   "source": [
    "# plot the train and test loss\n",
    "plt.figure(figsize=(8, 8))\n",
    "plt.xlabel('Step')\n",
    "plt.ylabel('Loss')\n",
    "x_scale=[x*validation_freq for x in range(1,len(training_loss)+1)]\n",
    "plt.plot(x_scale, training_loss, '--b', label='train loss')\n",
    "plt.plot(x_scale, validation_loss, '--r', label='test loss')\n",
    "plt.plot(x_scale, [max_loss_validation]*len(training_loss), '--k', label='train loss upper bound')\n",
    "_ = plt.legend()"
   ]
  },
  {
   "cell_type": "code",
   "execution_count": null,
   "metadata": {},
   "outputs": [],
   "source": []
  }
 ],
 "metadata": {
  "kernelspec": {
   "display_name": "Python 3",
   "language": "python",
   "name": "python3"
  },
  "language_info": {
   "codemirror_mode": {
    "name": "ipython",
    "version": 3
   },
   "file_extension": ".py",
   "mimetype": "text/x-python",
   "name": "python",
   "nbconvert_exporter": "python",
   "pygments_lexer": "ipython3",
   "version": "3.6.5"
  }
 },
 "nbformat": 4,
 "nbformat_minor": 2
}
